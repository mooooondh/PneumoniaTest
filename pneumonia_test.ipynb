{
 "cells": [
  {
   "cell_type": "code",
   "execution_count": 83,
   "metadata": {},
   "outputs": [],
   "source": [
    "import os\n",
    "import cv2\n",
    "import time\n",
    "import pandas as pd\n",
    "import numpy as np\n",
    "import tensorflow as tf\n",
    "from tensorflow import keras\n",
    "from tensorflow.keras.models import load_model\n",
    "from sklearn.utils import shuffle\n",
    "from sklearn.model_selection import train_test_split"
   ]
  },
  {
   "cell_type": "markdown",
   "metadata": {},
   "source": [
    "## load data"
   ]
  },
  {
   "cell_type": "code",
   "execution_count": 84,
   "metadata": {},
   "outputs": [],
   "source": [
    "path= \"./data\"\n",
    "train_file_0= os.listdir(path+ \"/train/NORMAL\")\n",
    "train_file_1= os.listdir(path+ \"/train/PNEUMONIA\")\n",
    "test_file_0= os.listdir(path+ \"/test/NORMAL\")\n",
    "test_file_1= os.listdir(path+ \"/test/PNEUMONIA\")"
   ]
  },
  {
   "cell_type": "markdown",
   "metadata": {},
   "source": [
    "## set train data"
   ]
  },
  {
   "cell_type": "code",
   "execution_count": 85,
   "metadata": {},
   "outputs": [],
   "source": [
    "X_full= 0\n",
    "check= False\n",
    "\n",
    "for file in train_file_0:\n",
    "    img_in= cv2.imread(path+ \"/train/NORMAL/\"+ file, cv2.IMREAD_GRAYSCALE)\n",
    "    img_res= cv2.resize(img_in, dsize= (100, 100), interpolation= cv2.INTER_LINEAR)\n",
    "    img_round= img_res/255\n",
    "    img_resh= img_round.reshape((100, 100, 1))\n",
    "    img= img_resh.reshape((1, )+ img_resh.shape)\n",
    "    \n",
    "    if(check== False):\n",
    "        X_full= img\n",
    "        check= True\n",
    "    else:\n",
    "        X_full= np.vstack((X_full, img))\n",
    "\n",
    "for file in train_file_1:\n",
    "    img_in= cv2.imread(path+ \"/train/PNEUMONIA/\"+ file, cv2.IMREAD_GRAYSCALE)\n",
    "    img_res= cv2.resize(img_in, dsize= (100, 100), interpolation= cv2.INTER_LINEAR)\n",
    "    img_round= img_res/255\n",
    "    img_resh= img_round.reshape((100, 100, 1))\n",
    "    img= img_resh.reshape((1, )+ img_resh.shape)\n",
    "    X_full= np.vstack((X_full, img))"
   ]
  },
  {
   "cell_type": "code",
   "execution_count": 89,
   "metadata": {},
   "outputs": [],
   "source": [
    "y_full= np.array([0]* len(train_file_0))\n",
    "y_full_1= np.array([1]* len(train_file_1))\n",
    "y_full= np.append(y_full, y_full_1)"
   ]
  },
  {
   "cell_type": "code",
   "execution_count": 90,
   "metadata": {},
   "outputs": [],
   "source": [
    "X_test, y_train= shuffle(X_full, y_full, random_state= 42)"
   ]
  },
  {
   "cell_type": "markdown",
   "metadata": {},
   "source": [
    "## separate train, val data"
   ]
  },
  {
   "cell_type": "code",
   "execution_count": 91,
   "metadata": {},
   "outputs": [],
   "source": [
    "X_train, X_val, y_train, y_val= train_test_split(X_full, y_full, test_size= 0.25)"
   ]
  },
  {
   "cell_type": "markdown",
   "metadata": {},
   "source": [
    "## save data"
   ]
  },
  {
   "cell_type": "code",
   "execution_count": 92,
   "metadata": {},
   "outputs": [],
   "source": [
    "np.save(\"./dataset/X_train\", X_train)\n",
    "np.save(\"./dataset/y_train\", y_train)\n",
    "np.save(\"./dataset/X_val\", X_val)\n",
    "np.save(\"./dataset/y_val\", y_val)"
   ]
  },
  {
   "cell_type": "code",
   "execution_count": 113,
   "metadata": {},
   "outputs": [],
   "source": [
    "X_test= 0\n",
    "check= False\n",
    "\n",
    "for file in test_file_0:\n",
    "    img_in= cv2.imread(path+ \"/test/NORMAL/\"+ file, cv2.IMREAD_GRAYSCALE)\n",
    "    img_res= cv2.resize(img_in, dsize= (100, 100), interpolation= cv2.INTER_LINEAR)\n",
    "    img_round= img_res/255\n",
    "    img_resh= img_round.reshape((100, 100, 1))\n",
    "    img= img_resh.reshape((1, )+ img_resh.shape)\n",
    "    \n",
    "    if(check== False):\n",
    "        X_test= img\n",
    "        check= True\n",
    "    else:\n",
    "        X_test= np.vstack((X_test, img))\n",
    "\n",
    "for file in test_file_1:\n",
    "    img_in= cv2.imread(path+ \"/test/PNEUMONIA/\"+ file, cv2.IMREAD_GRAYSCALE)\n",
    "    img_res= cv2.resize(img_in, dsize= (100, 100), interpolation= cv2.INTER_LINEAR)\n",
    "    img_round= img_res/255\n",
    "    img_resh= img_round.reshape((100, 100, 1))\n",
    "    img= img_resh.reshape((1, )+ img_resh.shape)\n",
    "    X_test= np.vstack((X_test, img))"
   ]
  },
  {
   "cell_type": "code",
   "execution_count": 114,
   "metadata": {},
   "outputs": [],
   "source": [
    "y_test= np.array([0]* len(test_file_0))\n",
    "y_test_1= np.array([1]* len(test_file_1))\n",
    "y_test= np.append(y_test, y_test_1)"
   ]
  },
  {
   "cell_type": "code",
   "execution_count": 115,
   "metadata": {},
   "outputs": [],
   "source": [
    "X_test, y_test= shuffle(X_test, y_test, random_state= 42)"
   ]
  },
  {
   "cell_type": "markdown",
   "metadata": {},
   "source": [
    "## save data"
   ]
  },
  {
   "cell_type": "code",
   "execution_count": 116,
   "metadata": {},
   "outputs": [],
   "source": [
    "np.save(\"./dataset/X_test\", X_test)\n",
    "np.save(\"./dataset/y_test\", y_test)"
   ]
  },
  {
   "cell_type": "markdown",
   "metadata": {},
   "source": [
    "## load data"
   ]
  },
  {
   "cell_type": "code",
   "execution_count": 117,
   "metadata": {},
   "outputs": [],
   "source": [
    "X_train= np.load(\"./dataset/X_train.npy\")\n",
    "y_train= np.load(\"./dataset/y_train.npy\")\n",
    "X_val= np.load(\"./dataset/X_val.npy\")\n",
    "y_val= np.load(\"./dataset/y_val.npy\")\n",
    "X_test= np.load(\"./dataset/X_test.npy\")\n",
    "y_test= np.load(\"./dataset/y_test.npy\")"
   ]
  },
  {
   "cell_type": "markdown",
   "metadata": {},
   "source": [
    "## check shape"
   ]
  },
  {
   "cell_type": "code",
   "execution_count": 118,
   "metadata": {},
   "outputs": [
    {
     "name": "stdout",
     "output_type": "stream",
     "text": [
      "(3912, 100, 100, 1)\n",
      "(3912,)\n",
      "(1304, 100, 100, 1)\n",
      "(1304,)\n",
      "(624, 100, 100, 1)\n",
      "(624,)\n"
     ]
    }
   ],
   "source": [
    "print(X_train.shape)\n",
    "print(y_train.shape)\n",
    "print(X_val.shape)\n",
    "print(y_val.shape)\n",
    "print(X_test.shape)\n",
    "print(y_test.shape)"
   ]
  },
  {
   "cell_type": "markdown",
   "metadata": {},
   "source": [
    "## build model"
   ]
  },
  {
   "cell_type": "code",
   "execution_count": 99,
   "metadata": {},
   "outputs": [],
   "source": [
    "model= keras.models.Sequential()"
   ]
  },
  {
   "cell_type": "code",
   "execution_count": 100,
   "metadata": {},
   "outputs": [],
   "source": [
    "model.add(keras.layers.Conv2D(64, 10, activation= \"relu\", padding= \"same\", input_shape= [100, 100, 1]))\n",
    "model.add(keras.layers.MaxPooling2D(2))\n",
    "model.add(keras.layers.Conv2D(128, 4, activation= \"relu\", padding= \"same\"))\n",
    "model.add(keras.layers.Conv2D(128, 4, activation= \"relu\", padding= \"same\")) \n",
    "model.add(keras.layers.MaxPooling2D(2))\n",
    "model.add(keras.layers.Conv2D(256, 4, activation= \"relu\", padding= \"same\"))\n",
    "model.add(keras.layers.Conv2D(256, 4, activation= \"relu\", padding= \"same\"))\n",
    "model.add(keras.layers.Flatten())\n",
    "model.add(keras.layers.Dense(128, activation= \"relu\"))\n",
    "model.add(keras.layers.Dropout(0.5))\n",
    "model.add(keras.layers.Dense(64, activation= \"relu\"))\n",
    "model.add(keras.layers.Dropout(0.5))\n",
    "model.add(keras.layers.Dense(32, activation= \"relu\"))\n",
    "model.add(keras.layers.Dropout(0.5))\n",
    "model.add(keras.layers.Dense(2, activation= \"softmax\"))"
   ]
  },
  {
   "cell_type": "code",
   "execution_count": 101,
   "metadata": {},
   "outputs": [],
   "source": [
    "model.compile(loss= \"sparse_categorical_crossentropy\", optimizer= \"sgd\", metrics= [\"accuracy\"])"
   ]
  },
  {
   "cell_type": "code",
   "execution_count": 102,
   "metadata": {},
   "outputs": [
    {
     "name": "stdout",
     "output_type": "stream",
     "text": [
      "Model: \"sequential_4\"\n",
      "_________________________________________________________________\n",
      "Layer (type)                 Output Shape              Param #   \n",
      "=================================================================\n",
      "conv2d_32 (Conv2D)           (None, 100, 100, 64)      6464      \n",
      "_________________________________________________________________\n",
      "max_pooling2d_11 (MaxPooling (None, 50, 50, 64)        0         \n",
      "_________________________________________________________________\n",
      "conv2d_33 (Conv2D)           (None, 50, 50, 128)       131200    \n",
      "_________________________________________________________________\n",
      "conv2d_34 (Conv2D)           (None, 50, 50, 128)       262272    \n",
      "_________________________________________________________________\n",
      "max_pooling2d_12 (MaxPooling (None, 25, 25, 128)       0         \n",
      "_________________________________________________________________\n",
      "conv2d_35 (Conv2D)           (None, 25, 25, 256)       524544    \n",
      "_________________________________________________________________\n",
      "conv2d_36 (Conv2D)           (None, 25, 25, 256)       1048832   \n",
      "_________________________________________________________________\n",
      "flatten_4 (Flatten)          (None, 160000)            0         \n",
      "_________________________________________________________________\n",
      "dense_14 (Dense)             (None, 128)               20480128  \n",
      "_________________________________________________________________\n",
      "dropout_10 (Dropout)         (None, 128)               0         \n",
      "_________________________________________________________________\n",
      "dense_15 (Dense)             (None, 64)                8256      \n",
      "_________________________________________________________________\n",
      "dropout_11 (Dropout)         (None, 64)                0         \n",
      "_________________________________________________________________\n",
      "dense_16 (Dense)             (None, 32)                2080      \n",
      "_________________________________________________________________\n",
      "dropout_12 (Dropout)         (None, 32)                0         \n",
      "_________________________________________________________________\n",
      "dense_17 (Dense)             (None, 2)                 66        \n",
      "=================================================================\n",
      "Total params: 22,463,842\n",
      "Trainable params: 22,463,842\n",
      "Non-trainable params: 0\n",
      "_________________________________________________________________\n"
     ]
    }
   ],
   "source": [
    "model.summary()"
   ]
  },
  {
   "cell_type": "code",
   "execution_count": 103,
   "metadata": {},
   "outputs": [
    {
     "name": "stdout",
     "output_type": "stream",
     "text": [
      "Epoch 1/30\n",
      "123/123 [==============================] - 160s 1s/step - loss: 0.6094 - accuracy: 0.7242 - val_loss: 0.5642 - val_accuracy: 0.7623\n",
      "Epoch 2/30\n",
      "123/123 [==============================] - 165s 1s/step - loss: 0.5785 - accuracy: 0.7357 - val_loss: 0.5049 - val_accuracy: 0.7623\n",
      "Epoch 3/30\n",
      "123/123 [==============================] - 167s 1s/step - loss: 0.5089 - accuracy: 0.7390 - val_loss: 0.3629 - val_accuracy: 0.7623\n",
      "Epoch 4/30\n",
      "123/123 [==============================] - 166s 1s/step - loss: 0.4430 - accuracy: 0.7679 - val_loss: 0.3228 - val_accuracy: 0.9371\n",
      "Epoch 5/30\n",
      "123/123 [==============================] - 169s 1s/step - loss: 0.3789 - accuracy: 0.8188 - val_loss: 0.4759 - val_accuracy: 0.7684\n",
      "Epoch 6/30\n",
      "123/123 [==============================] - 168s 1s/step - loss: 0.3309 - accuracy: 0.8563 - val_loss: 0.1613 - val_accuracy: 0.9471\n",
      "Epoch 7/30\n",
      "123/123 [==============================] - 167s 1s/step - loss: 0.2811 - accuracy: 0.8745 - val_loss: 0.2612 - val_accuracy: 0.9241\n",
      "Epoch 8/30\n",
      "123/123 [==============================] - 168s 1s/step - loss: 0.2491 - accuracy: 0.8937 - val_loss: 0.1335 - val_accuracy: 0.9540\n",
      "Epoch 9/30\n",
      "123/123 [==============================] - 172s 1s/step - loss: 0.2458 - accuracy: 0.8965 - val_loss: 0.2046 - val_accuracy: 0.9494\n",
      "Epoch 10/30\n",
      "123/123 [==============================] - 167s 1s/step - loss: 0.2252 - accuracy: 0.9095 - val_loss: 0.1195 - val_accuracy: 0.9555\n",
      "Epoch 11/30\n",
      "123/123 [==============================] - 167s 1s/step - loss: 0.2059 - accuracy: 0.9218 - val_loss: 0.1282 - val_accuracy: 0.9494\n",
      "Epoch 12/30\n",
      "123/123 [==============================] - 172s 1s/step - loss: 0.1913 - accuracy: 0.9215 - val_loss: 0.1217 - val_accuracy: 0.9548\n",
      "Epoch 13/30\n",
      "123/123 [==============================] - 172s 1s/step - loss: 0.1805 - accuracy: 0.9248 - val_loss: 0.1141 - val_accuracy: 0.9555\n",
      "Epoch 14/30\n",
      "123/123 [==============================] - 169s 1s/step - loss: 0.1701 - accuracy: 0.9335 - val_loss: 0.1102 - val_accuracy: 0.9563\n",
      "Epoch 15/30\n",
      "123/123 [==============================] - 173s 1s/step - loss: 0.1748 - accuracy: 0.9363 - val_loss: 0.1490 - val_accuracy: 0.9417\n",
      "Epoch 16/30\n",
      "123/123 [==============================] - 169s 1s/step - loss: 0.1610 - accuracy: 0.9404 - val_loss: 0.1621 - val_accuracy: 0.9348\n",
      "Epoch 17/30\n",
      "123/123 [==============================] - 171s 1s/step - loss: 0.1622 - accuracy: 0.9440 - val_loss: 0.2170 - val_accuracy: 0.9333\n",
      "Epoch 18/30\n",
      "123/123 [==============================] - 170s 1s/step - loss: 0.1595 - accuracy: 0.9425 - val_loss: 0.1081 - val_accuracy: 0.9617\n",
      "Epoch 19/30\n",
      "123/123 [==============================] - 169s 1s/step - loss: 0.1637 - accuracy: 0.9491 - val_loss: 0.1099 - val_accuracy: 0.9586\n",
      "Epoch 20/30\n",
      "123/123 [==============================] - 170s 1s/step - loss: 0.1456 - accuracy: 0.9527 - val_loss: 0.1128 - val_accuracy: 0.9647\n",
      "Epoch 21/30\n",
      "123/123 [==============================] - 171s 1s/step - loss: 0.1414 - accuracy: 0.9507 - val_loss: 0.1250 - val_accuracy: 0.9502\n",
      "Epoch 22/30\n",
      "123/123 [==============================] - 170s 1s/step - loss: 0.1322 - accuracy: 0.9542 - val_loss: 0.0993 - val_accuracy: 0.9640\n",
      "Epoch 23/30\n",
      "123/123 [==============================] - 168s 1s/step - loss: 0.1366 - accuracy: 0.9540 - val_loss: 0.1170 - val_accuracy: 0.9594\n",
      "Epoch 24/30\n",
      "123/123 [==============================] - 171s 1s/step - loss: 0.1403 - accuracy: 0.9517 - val_loss: 0.1036 - val_accuracy: 0.9624\n",
      "Epoch 25/30\n",
      "123/123 [==============================] - 167s 1s/step - loss: 0.1319 - accuracy: 0.9560 - val_loss: 0.1245 - val_accuracy: 0.9502\n",
      "Epoch 26/30\n",
      "123/123 [==============================] - 167s 1s/step - loss: 0.1254 - accuracy: 0.9627 - val_loss: 0.0901 - val_accuracy: 0.9647\n",
      "Epoch 27/30\n",
      "123/123 [==============================] - 170s 1s/step - loss: 0.1220 - accuracy: 0.9596 - val_loss: 0.1016 - val_accuracy: 0.9686\n",
      "Epoch 28/30\n",
      "123/123 [==============================] - 171s 1s/step - loss: 0.1131 - accuracy: 0.9601 - val_loss: 0.0997 - val_accuracy: 0.9655\n",
      "Epoch 29/30\n",
      "123/123 [==============================] - 173s 1s/step - loss: 0.1167 - accuracy: 0.9604 - val_loss: 0.0975 - val_accuracy: 0.9701\n",
      "Epoch 30/30\n",
      "123/123 [==============================] - 173s 1s/step - loss: 0.1122 - accuracy: 0.9663 - val_loss: 0.0930 - val_accuracy: 0.9678\n",
      "time:  5111.410764217377\n"
     ]
    }
   ],
   "source": [
    "start_time= time.time()\n",
    "history= model.fit(X_train, y_train, epochs= 30, validation_data= (X_val, y_val))\n",
    "end_time= time.time()\n",
    "print(\"time: \", end_time- start_time)"
   ]
  },
  {
   "cell_type": "markdown",
   "metadata": {},
   "source": [
    "## save model"
   ]
  },
  {
   "cell_type": "code",
   "execution_count": 104,
   "metadata": {},
   "outputs": [
    {
     "name": "stdout",
     "output_type": "stream",
     "text": [
      "INFO:tensorflow:Assets written to: ./model/learning_model\\assets\n"
     ]
    }
   ],
   "source": [
    "model.save(\"./model/learning_model\")"
   ]
  },
  {
   "cell_type": "markdown",
   "metadata": {},
   "source": [
    "## learning model"
   ]
  },
  {
   "cell_type": "code",
   "execution_count": 105,
   "metadata": {},
   "outputs": [],
   "source": [
    "model= load_model(\"./model/learning_model\")"
   ]
  },
  {
   "cell_type": "markdown",
   "metadata": {},
   "source": [
    "## check loss and accuracy"
   ]
  },
  {
   "cell_type": "code",
   "execution_count": 106,
   "metadata": {},
   "outputs": [],
   "source": [
    "import pandas as pd\n",
    "import matplotlib.pyplot as plt"
   ]
  },
  {
   "cell_type": "code",
   "execution_count": 119,
   "metadata": {},
   "outputs": [
    {
     "data": {
      "image/png": "[encoded data removed]",
      "text/plain": [
       "<Figure size 576x360 with 1 Axes>"
      ]
     },
     "metadata": {
      "needs_background": "light"
     },
     "output_type": "display_data"
    }
   ],
   "source": [
    "pd.DataFrame(history.history).plot(figsize= (8, 5))\n",
    "plt.grid(True)\n",
    "plt.gca().set_ylim(0, 1)\n",
    "plt.show()"
   ]
  },
  {
   "cell_type": "markdown",
   "metadata": {},
   "source": [
    "## check with test data"
   ]
  },
  {
   "cell_type": "code",
   "execution_count": 120,
   "metadata": {},
   "outputs": [
    {
     "data": {
      "text/plain": [
       "array([1, 0, 1, 0, 1, 1, 0, 0, 1, 1, 1, 1, 0, 0, 1, 0, 1, 1, 1, 1, 1, 1,\n",
       "       1, 1, 1, 0, 1, 1, 1, 1, 1, 1, 1, 1, 1, 1, 1, 1, 1, 1, 1, 0, 0, 1,\n",
       "       1, 0, 1, 1, 0, 1, 1, 1, 0, 1, 1, 1, 1, 1, 1, 1, 1, 1, 0, 1, 1, 1,\n",
       "       1, 1, 1, 1, 1, 0, 0, 1, 1, 1, 1, 0, 1, 1, 1, 0, 1, 1, 1, 1, 1, 1,\n",
       "       1, 1, 1, 1, 1, 1, 0, 1, 1, 1, 1, 1, 0, 1, 1, 1, 1, 0, 1, 1, 1, 1,\n",
       "       0, 0, 0, 1, 1, 1, 1, 1, 1, 0, 1, 1, 1, 1, 0, 1, 1, 0, 0, 0, 1, 0,\n",
       "       1, 1, 1, 1, 1, 1, 1, 1, 0, 1, 1, 1, 1, 0, 1, 1, 1, 1, 0, 0, 1, 1,\n",
       "       0, 0, 1, 1, 1, 1, 1, 0, 1, 1, 1, 0, 0, 1, 1, 1, 1, 1, 0, 1, 1, 1,\n",
       "       1, 1, 1, 1, 1, 1, 0, 0, 1, 1, 0, 1, 0, 1, 1, 1, 1, 1, 0, 0, 1, 1,\n",
       "       1, 1, 1, 1, 1, 1, 1, 0, 1, 1, 1, 0, 1, 1, 1, 1, 1, 1, 0, 1, 1, 1,\n",
       "       1, 1, 1, 1, 1, 0, 1, 1, 0, 1, 1, 1, 1, 0, 1, 1, 1, 1, 1, 1, 1, 1,\n",
       "       1, 0, 1, 1, 1, 1, 1, 1, 0, 1, 1, 1, 0, 1, 1, 1, 1, 1, 0, 0, 1, 1,\n",
       "       1, 0, 1, 1, 1, 1, 1, 1, 1, 1, 1, 1, 1, 0, 1, 1, 1, 1, 1, 1, 1, 1,\n",
       "       1, 1, 1, 0, 1, 1, 1, 1, 1, 0, 1, 1, 1, 1, 1, 1, 1, 1, 1, 1, 1, 1,\n",
       "       1, 1, 1, 1, 1, 1, 1, 1, 1, 0, 1, 1, 1, 1, 1, 1, 1, 1, 1, 0, 1, 1,\n",
       "       1, 1, 1, 0, 1, 1, 0, 1, 1, 1, 1, 1, 1, 1, 0, 1, 1, 1, 1, 1, 1, 1,\n",
       "       1, 1, 1, 1, 1, 1, 0, 1, 1, 1, 1, 1, 0, 1, 1, 1, 1, 1, 1, 0, 1, 1,\n",
       "       1, 1, 0, 1, 1, 1, 0, 1, 1, 1, 1, 1, 1, 1, 1, 1, 1, 1, 1, 1, 1, 1,\n",
       "       1, 0, 1, 1, 1, 1, 1, 1, 1, 1, 0, 1, 1, 1, 1, 1, 1, 1, 1, 0, 1, 1,\n",
       "       1, 1, 1, 1, 1, 1, 1, 1, 1, 1, 1, 0, 1, 1, 1, 1, 1, 1, 1, 0, 0, 1,\n",
       "       1, 1, 1, 1, 1, 1, 1, 1, 1, 1, 1, 1, 1, 1, 1, 1, 1, 1, 1, 1, 1, 1,\n",
       "       1, 1, 1, 1, 1, 1, 1, 1, 1, 1, 0, 0, 1, 1, 1, 1, 1, 1, 1, 0, 1, 0,\n",
       "       1, 1, 1, 1, 1, 0, 0, 0, 1, 1, 1, 1, 1, 1, 1, 0, 0, 1, 1, 1, 1, 1,\n",
       "       1, 1, 0, 1, 0, 0, 1, 1, 1, 1, 1, 1, 1, 1, 1, 1, 1, 1, 1, 0, 1, 1,\n",
       "       1, 1, 1, 1, 1, 1, 1, 1, 1, 1, 1, 1, 0, 1, 1, 1, 1, 1, 0, 1, 1, 1,\n",
       "       1, 1, 1, 1, 1, 1, 0, 0, 1, 1, 1, 0, 1, 1, 1, 1, 1, 1, 1, 1, 1, 1,\n",
       "       1, 0, 1, 1, 1, 1, 0, 1, 1, 1, 1, 1, 1, 1, 1, 1, 1, 1, 1, 1, 1, 1,\n",
       "       1, 1, 1, 0, 1, 1, 1, 1, 1, 1, 1, 1, 1, 1, 1, 0, 1, 0, 1, 1, 0, 1,\n",
       "       1, 1, 1, 0, 0, 1, 1, 0], dtype=int64)"
      ]
     },
     "execution_count": 120,
     "metadata": {},
     "output_type": "execute_result"
    }
   ],
   "source": [
    "y_pred= model.predict_classes(X_test)\n",
    "y_pred"
   ]
  },
  {
   "cell_type": "code",
   "execution_count": 121,
   "metadata": {},
   "outputs": [
    {
     "data": {
      "text/plain": [
       "array([1, 1, 0, 0, 1, 1, 0, 0, 1, 0, 1, 0, 0, 0, 1, 0, 0, 1, 1, 1, 0, 0,\n",
       "       0, 1, 1, 0, 1, 1, 1, 1, 1, 1, 0, 1, 0, 1, 1, 1, 0, 1, 1, 0, 0, 1,\n",
       "       1, 0, 1, 1, 0, 1, 1, 1, 0, 1, 1, 1, 0, 1, 0, 0, 1, 1, 0, 1, 1, 1,\n",
       "       0, 0, 1, 1, 1, 0, 0, 0, 1, 0, 1, 0, 1, 1, 1, 0, 1, 1, 0, 1, 1, 1,\n",
       "       0, 1, 1, 1, 0, 1, 0, 0, 1, 1, 1, 1, 0, 1, 1, 1, 0, 0, 1, 0, 1, 0,\n",
       "       0, 0, 0, 1, 1, 0, 1, 1, 1, 0, 0, 1, 0, 1, 0, 1, 1, 0, 0, 0, 1, 1,\n",
       "       1, 1, 1, 1, 1, 1, 1, 1, 0, 1, 0, 0, 1, 0, 0, 1, 1, 1, 0, 0, 1, 1,\n",
       "       0, 0, 1, 1, 0, 1, 1, 0, 0, 1, 1, 0, 0, 1, 1, 1, 1, 1, 0, 1, 1, 1,\n",
       "       1, 1, 1, 1, 1, 0, 0, 0, 1, 0, 0, 1, 0, 0, 1, 0, 1, 1, 0, 0, 1, 1,\n",
       "       1, 1, 1, 1, 0, 1, 0, 0, 0, 1, 1, 0, 1, 1, 0, 1, 1, 1, 1, 1, 1, 1,\n",
       "       1, 0, 0, 1, 0, 0, 1, 1, 0, 1, 0, 1, 1, 1, 1, 1, 0, 1, 1, 1, 1, 1,\n",
       "       1, 0, 1, 1, 1, 1, 1, 1, 0, 0, 1, 1, 0, 1, 1, 1, 1, 1, 0, 0, 0, 1,\n",
       "       1, 0, 1, 1, 1, 1, 1, 1, 0, 0, 1, 0, 0, 0, 1, 0, 0, 1, 1, 1, 1, 0,\n",
       "       1, 1, 1, 0, 0, 1, 1, 1, 1, 0, 0, 1, 1, 1, 0, 0, 1, 1, 0, 1, 1, 1,\n",
       "       1, 1, 1, 0, 0, 1, 1, 0, 0, 0, 0, 1, 1, 0, 1, 1, 0, 1, 1, 1, 1, 0,\n",
       "       1, 0, 1, 0, 1, 0, 0, 1, 1, 0, 1, 1, 0, 1, 0, 1, 1, 0, 1, 1, 1, 0,\n",
       "       1, 1, 1, 1, 0, 1, 0, 0, 1, 1, 1, 0, 0, 1, 1, 1, 1, 1, 1, 0, 1, 1,\n",
       "       1, 1, 0, 1, 1, 0, 1, 1, 0, 1, 1, 0, 1, 1, 1, 1, 0, 1, 0, 0, 1, 1,\n",
       "       1, 0, 1, 1, 1, 1, 1, 1, 0, 0, 0, 1, 1, 1, 1, 1, 1, 1, 1, 0, 1, 1,\n",
       "       1, 0, 1, 0, 0, 0, 1, 1, 1, 1, 1, 0, 1, 1, 1, 1, 1, 1, 1, 0, 0, 1,\n",
       "       1, 1, 1, 1, 0, 0, 0, 1, 1, 0, 1, 0, 1, 0, 1, 1, 0, 0, 0, 1, 1, 1,\n",
       "       1, 0, 1, 1, 1, 0, 1, 1, 1, 1, 0, 0, 1, 1, 0, 1, 0, 0, 0, 0, 1, 0,\n",
       "       1, 0, 1, 0, 0, 0, 0, 0, 0, 1, 1, 1, 1, 0, 1, 0, 0, 1, 1, 1, 1, 0,\n",
       "       1, 1, 0, 1, 1, 0, 1, 1, 1, 0, 0, 1, 0, 1, 1, 0, 0, 0, 0, 0, 1, 0,\n",
       "       1, 1, 1, 1, 1, 1, 0, 0, 1, 0, 1, 1, 0, 0, 0, 0, 1, 1, 0, 0, 0, 1,\n",
       "       1, 1, 1, 1, 1, 1, 0, 0, 1, 1, 1, 0, 1, 0, 1, 1, 0, 0, 0, 1, 1, 1,\n",
       "       1, 0, 1, 1, 1, 1, 0, 1, 1, 1, 0, 1, 1, 1, 1, 1, 1, 1, 0, 1, 1, 0,\n",
       "       1, 1, 1, 0, 1, 1, 0, 1, 0, 1, 1, 1, 1, 1, 0, 0, 1, 0, 1, 1, 0, 1,\n",
       "       0, 1, 0, 0, 0, 1, 1, 0])"
      ]
     },
     "execution_count": 121,
     "metadata": {},
     "output_type": "execute_result"
    }
   ],
   "source": [
    "y_test"
   ]
  },
  {
   "cell_type": "markdown",
   "metadata": {},
   "source": [
    "## check accuracy"
   ]
  },
  {
   "cell_type": "code",
   "execution_count": 122,
   "metadata": {},
   "outputs": [
    {
     "name": "stdout",
     "output_type": "stream",
     "text": [
      "accuracy:  0.7692307692307693\n"
     ]
    }
   ],
   "source": [
    "accuracy= 0\n",
    "\n",
    "for i in range(len(y_test)):\n",
    "    if(y_test[i]== y_pred[i]):\n",
    "        accuracy+= 1\n",
    "        \n",
    "print(\"accuracy: \", accuracy/len(y_test))"
   ]
  },
  {
   "cell_type": "code",
   "execution_count": null,
   "metadata": {},
   "outputs": [],
   "source": []
  }
 ],
 "metadata": {
  "kernelspec": {
   "display_name": "Python 3",
   "language": "python",
   "name": "python3"
  },
  "language_info": {
   "codemirror_mode": {
    "name": "ipython",
    "version": 3
   },
   "file_extension": ".py",
   "mimetype": "text/x-python",
   "name": "python",
   "nbconvert_exporter": "python",
   "pygments_lexer": "ipython3",
   "version": "3.6.8"
  }
 },
 "nbformat": 4,
 "nbformat_minor": 4
}
